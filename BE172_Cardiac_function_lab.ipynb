{
 "cells": [
  {
   "cell_type": "markdown",
   "metadata": {},
   "source": [
    "# BE 172: Cardiac function - Experimental measures and computational modeling"
   ]
  },
  {
   "cell_type": "markdown",
   "metadata": {},
   "source": [
    "**Objective**\n",
    "The objective of this exercise is to simulate the passive inflation of a frog ventricle using the finite element method, optimize the material parameters of the model to match experimental data, and visualize the stress distribution through the heart wall.\n",
    "\n",
    "Instructor: Jeff Omens<br>\n",
    "Notebook developer: Kevin Vincent<br>\n",
    "\n",
    "Acknowledgment: Special thanks to Henrik Fornsberg for developing [Pulse](https://github.com/finsberg/pulse), an open source finite element package for solving cardiac mechanics problems built on the [FEniCS Project](https://fenicsproject.org/)"
   ]
  },
  {
   "cell_type": "markdown",
   "metadata": {},
   "source": [
    "Here is an overview of the lab exercise\n",
    "\n",
    "\n",
    "\n",
    "1. [Plot the experimental frog heart pressure-volume relationship](#exp_data)\n",
    "1. [Define cardiac geometry](#geom)\n",
    "1. [Simulate passive inflation of the cardiac geometry](#fea)\n",
    "1. [Optimize material parameters to match experimental data](#opt)\n",
    "1. [Plot the transmural stress distribution](#stress)\n"
   ]
  },
  {
   "cell_type": "markdown",
   "metadata": {},
   "source": [
    "***\n",
    "### <center>If you are new to Jupyter notebooks <a href=\"Intro_to_Jupyter_Notebooks.ipynb\">CLICK HERE</a> for a brief introduction</center>"
   ]
  },
  {
   "cell_type": "markdown",
   "metadata": {},
   "source": [
    "### Instructions for completing this exercise\n",
    "\n",
    "This notebook will run through successfully as provided, but the results will not be correct. There are 4 places where you need to edit the code with your own values or measurements.  As you go through the exercise you'll see **<font color=red>EDIT HERE</font>** in the text cells with a description of the data to input and the specific line numbers to edit. In the subsequent code cell, you will see another `#EDIT HERE` immediately above the lines to edit.\n",
    "\n",
    "To complete this exercise successfully you will need to:\n",
    "\n",
    "1. Input the experimental pressure and volume data in the correct units\n",
    "1. Input the heart geometry measurements in the correct units\n",
    "1. Edit the maximum pressure for the finite element model inflation\n",
    "1. Iteratively edit the material properties of the finite element model to match the experimental PV curve\n",
    "\n",
    "To save the results for your lab report you can copy the numbers out of this notebook and into an excel file.  Alternatively, if you are comfortable using Jupyter notebooks and python, you cab complete your analysis and generate figures within this notebook."
   ]
  },
  {
   "cell_type": "markdown",
   "metadata": {},
   "source": [
    "#### Troubleshooting\n",
    "Below are a few suggestions if you are having trouble with this notebook.\n",
    "\n",
    "- If you need to restart the notebook, `Kernel -> Restart & Clear Output` from the menu bar above will restart the python session, delete all the variables in memory, clear the output, and allow you to start fresh from the beginning of the notebook.\n",
    "- If you want to start over completely with an unedited notebook, you will need to use the terminal. Open the Jupyter Dashboard `File -> Open...`. On the upper right hand side, select the `New -> Terminal` option. In the terminal type `git fetch origin` followed by `git reset --hard origin/master`. The repository will be reset to it's original state.\n",
    "- Be sure you are not over writing a previously defined variable (see Jupyter notebook introduction)\n",
    "- Check that your units are all consistent\n",
    "- If a simulation or step is taking too long (>10 minutes) you may be in difficult parameter regime (probably too soft).  First, stop or interrupt the kernel (the black square on the toolbar or `Kernel -> Interrupt` from the menu). Then check that your geometry is correct and increase the stiffness of the model. You may also need to `Restart & Clear Output`"
   ]
  },
  {
   "cell_type": "code",
   "execution_count": null,
   "metadata": {},
   "outputs": [],
   "source": [
    "# DO NOT EDIT\n",
    "# This cell imports neccessary packages and sets come configurations\n",
    "import os\n",
    "try:\n",
    "    os.system('cp plotting.py /opt/conda/lib/python3.6/site-packages/dolfin/common/plotting.py')\n",
    "except Exception:\n",
    "    print('Error fixing plotting bug.  3D matplotlib mesh renderings may throw error')\n",
    "import matplotlib.pyplot as plt\n",
    "import numpy as np\n",
    "import dolfin as df\n",
    "import dolfin\n",
    "import mshr\n",
    "import pulse\n",
    "import time\n",
    "from pulse.geometry_utils import generate_fibers\n",
    "from pulse.geometry import Microstructure, HeartGeometry, MarkerFunctions\n",
    "from func import fs, rs\n",
    "\n",
    "os.environ['OMP_NUM_THREADS'] = '1'\n",
    "dolfin.parameters['linear_algebra_backend'] = 'Eigen'\n",
    "%matplotlib inline\n",
    "%config InlineBackend.figure_format = 'retina'\n",
    "plt.rcParams.update({'font.size': 18})\n",
    "np.set_printoptions(precision=3, suppress=True)"
   ]
  },
  {
   "cell_type": "markdown",
   "metadata": {},
   "source": [
    "***\n",
    "<a id=\"exp_data\"></a>\n",
    "# Experimental Frog Heart Pressure-Volume relationship\n",
    "\n",
    "Before running the finite element simulation, plot the experimental pressure-volume data and apply the necessary calibration factors"
   ]
  },
  {
   "cell_type": "markdown",
   "metadata": {},
   "source": [
    "### Step 1: Input experimental pressure volume data\n",
    "\n",
    "**<font color=red>EDIT HERE lines 4 & 5</font>**\n",
    "<br>Input the experimental pressure and volume data in the correct units"
   ]
  },
  {
   "cell_type": "code",
   "execution_count": null,
   "metadata": {},
   "outputs": [],
   "source": [
    "pv_lab = np.zeros((8,2))\n",
    "\n",
    "# EDIT HERE: Input the experimental pressure and volume data in correct units\n",
    "pv_lab[:,0] = np.array([0.   , 0.035, 0.07 , 0.105, 0.14 , 0.175, 0.21 , 0.245]) #Volume (mL)\n",
    "pv_lab[:,1] = np.array([0.  ,  0.35,  1.4 ,  2.8 ,  4.2 ,  7.  , 11.2 , 22.4]) #Pressure (mmHg)\n"
   ]
  },
  {
   "cell_type": "markdown",
   "metadata": {},
   "source": [
    "The file was loaded into the variable `pv_lab`. Let's print out that variable to see what is in the file. "
   ]
  },
  {
   "cell_type": "code",
   "execution_count": null,
   "metadata": {},
   "outputs": [],
   "source": [
    "print(pv_lab)"
   ]
  },
  {
   "cell_type": "markdown",
   "metadata": {},
   "source": [
    "The data has two columns.  The first column (`pv_lab[:,0])` contains volume data.  The volume data is evenly spaced because volume was the independent variable in the experiment and is set by incrementing the syringe.  The initial volume, listed as zero, does not include the starting `Vo` volume. The second column (`pv_lab[:,1]`) contains voltage measurements read from the oscilloscope."
   ]
  },
  {
   "cell_type": "markdown",
   "metadata": {},
   "source": [
    "### Step 2: Plot the experimental data"
   ]
  },
  {
   "cell_type": "code",
   "execution_count": null,
   "metadata": {},
   "outputs": [],
   "source": [
    "plt.plot(pv_lab[:,0],pv_lab[:,1],'k-',label='Experiment')\n",
    "\n",
    "plt.ylim([0, 40])\n",
    "plt.title('Frog heart PV curve')\n",
    "plt.xlabel(\"Volume (mL)\") # Edit to add units\n",
    "plt.ylabel(\"Pressure (mmHg)\") # Edit to add units\n",
    "ax = plt.gca()\n",
    "ax.spines['right'].set_color('none')\n",
    "ax.spines['top'].set_color('none')\n",
    "plt.legend(loc=2,frameon=False)\n",
    "plt.show()"
   ]
  },
  {
   "cell_type": "markdown",
   "metadata": {},
   "source": [
    "***\n",
    "<a id=\"geom\"></a>\n",
    "# Define Custom Ellipsoidal Geometry\n",
    "\n",
    "We will model the frog ventricle as a truncated, thick-walled ellipsoid.  The epicardium and endocardium will be defined by concentric ellipsoids.  The equation for an ellipsoid is below:\n",
    "\n",
    "\\begin{equation*}\n",
    "\\frac{x^2}{a^2} + \\frac{y^2}{b^2} + \\frac{z^2}{c^2} = 1 \n",
    "\\end{equation*}\n",
    "\n",
    "`a` will be the dimension of the ellipsoid defining the distance from the base to the apex of the heart.  `b` and `c` describe the short-axis radius of the heart.  The nested ellipsoids will be axially symmetric (`b = c`).  The outer surface of the heart is called the epicardium (`epi`), and the inner surface of the heart is called the endocardium (`endo`).  Therefore `a_endo` is the radius from the base to the inner surface of the heart wall at the apex."
   ]
  },
  {
   "cell_type": "markdown",
   "metadata": {},
   "source": [
    "### Cardiac fiber architecture\n",
    "The orientation of cardiac myocytes determines the primary direction of force development and electrical propagation.   We will incorporate the most important feature of the cardiac fiber architecture in our model by including a gradient from -60 degrees on the epicardium to +60 degrees on the endocardium.\n",
    "\n",
    "Some figure showing data of the gradient and an image "
   ]
  },
  {
   "cell_type": "markdown",
   "metadata": {},
   "source": [
    "### Step 1: Provide input measurements for the geometry\n",
    "\n",
    "**<font color=red>EDIT HERE lines 13 - 19</font>**\n",
    "<br>Input the heart geometry measurements in the correct units"
   ]
  },
  {
   "cell_type": "code",
   "execution_count": null,
   "metadata": {},
   "outputs": [],
   "source": [
    "# Single ventricle frog heart geomery measurements\n",
    "# Note: that some variable names use 'lv' or left ventricle \n",
    "# despite the frog heart being a single v\n",
    "\n",
    "# Define the base plane - this does not need to be edited\n",
    "# 0.0 cuts the ellipsoid in half; -2.0 is a full ellipsoid; \n",
    "base_x = -0.2 \n",
    "\n",
    "# The center of the ventricular ellipsoid\n",
    "center = df.Point(0.0, 0.0, 0.0)\n",
    "\n",
    "# EDIT HERE: Input the heart geometry measurements in the correct units (cm)\n",
    "# Epicardium radii (outer surface of the heart) - a is the base to apex radius. b = c \n",
    "a_epi = 1.2\n",
    "b_epi = 0.6\n",
    "c_epi = 0.6\n",
    "\n",
    "# Endocardium radii (inner surface of the heart) - a is the base to apex radius. b = c \n",
    "a_endo = 1.0\n",
    "b_endo = 0.4\n",
    "c_endo = 0.4\n",
    "\n",
    "fiber_angle_epi = -60\n",
    "fiber_angle_endo = 60\n",
    "\n",
    "# Some refinement level - the default of 10 is sufficient\n",
    "N = 10\n",
    "\n",
    "mesh_name = 'frog_heart_geometry'"
   ]
  },
  {
   "cell_type": "code",
   "execution_count": null,
   "metadata": {},
   "outputs": [],
   "source": [
    "# Markers (first index is the marker, second is the topological dimension)\n",
    "markers = dict(BASE=(10, 2),\n",
    "               ENDO=(30, 2),\n",
    "               EPI=(40, 2))\n",
    "\n",
    "class Endo(df.SubDomain):\n",
    "    def inside(self, x, on_boundary):\n",
    "        return (x[0]-center.x())**2/a_endo**2 \\\n",
    "            + (x[1]-center.y())**2/b_endo**2 \\\n",
    "            + (x[2]-center.z())**2/c_endo**2 -1.15 < df.DOLFIN_EPS \\\n",
    "            and on_boundary\n",
    "\n",
    "class Base(df.SubDomain):\n",
    "    def inside(self, x, on_boundary):\n",
    "        return x[0] - base_x < df.DOLFIN_EPS and on_boundary\n",
    "\n",
    "class Epi(df.SubDomain):\n",
    "    def inside(self, x, on_boundary):\n",
    "        return (x[0]-center.x())**2/a_epi**2 \\\n",
    "            + (x[1]-center.y())**2/b_epi**2 \\\n",
    "            + (x[2]-center.z())**2/c_epi**2 - 0.85 > df.DOLFIN_EPS \\\n",
    "            and on_boundary"
   ]
  },
  {
   "cell_type": "code",
   "execution_count": null,
   "metadata": {},
   "outputs": [],
   "source": [
    "# The plane cutting the base\n",
    "diam = -10.0\n",
    "box = mshr.Box(df.Point(base_x, 2, 2), df.Point(diam, diam, diam))\n",
    "# Generate mesh\n",
    "\n",
    "# Ventricular epicardium\n",
    "el_lv = mshr.Ellipsoid(center, a_epi, b_epi, c_epi)\n",
    "# LV endocardium\n",
    "el_lv_endo = mshr.Ellipsoid(center, a_endo, b_endo, c_endo)\n",
    "\n",
    "# LV geometry (subtract the smallest ellipsoid)\n",
    "lv = el_lv - el_lv_endo\n",
    "\n",
    "# LV geometry\n",
    "m = lv - box\n",
    "\n",
    "# Create mesh\n",
    "mesh = mshr.generate_mesh(m, N)\n",
    "\n",
    "# Create facet function\n",
    "ffun = df.MeshFunction(\"size_t\", mesh, 2)\n",
    "ffun.set_all(0)\n",
    "\n",
    "endo = Endo()\n",
    "endo.mark(ffun, markers['ENDO'][0])\n",
    "base = Base()\n",
    "base.mark(ffun, markers['BASE'][0])\n",
    "epi = Epi()\n",
    "epi.mark(ffun, markers['EPI'][0])\n",
    "\n",
    "# Mark mesh\n",
    "for facet in df.facets(mesh):\n",
    "    mesh.domains().set_marker((facet.index(), ffun[facet]), 2)\n",
    "\n",
    "marker_functions = MarkerFunctions(ffun=ffun)"
   ]
  },
  {
   "cell_type": "code",
   "execution_count": null,
   "metadata": {},
   "outputs": [],
   "source": [
    "# Make fiber field\n",
    "fiber_params = df.Parameters(\"Fibers\")\n",
    "fiber_params.add(\"fiber_space\", \"CG_1\")\n",
    "# fiber_params.add(\"fiber_space\", \"Quadrature_4\")\n",
    "fiber_params.add(\"include_sheets\", False)\n",
    "fiber_params.add(\"fiber_angle_epi\", fiber_angle_epi)\n",
    "fiber_params.add(\"fiber_angle_endo\", fiber_angle_endo)\n",
    "\n",
    "try:\n",
    "    fields = generate_fibers(mesh, fiber_params)\n",
    "except ImportError:\n",
    "    fields = []\n",
    "    fields_names = []\n",
    "else:\n",
    "    fields_names = ['f0', 's0', 'n0']\n",
    "\n",
    "microstructure = Microstructure(**dict(zip(fields_names, fields)))\n",
    "\n",
    "geometry = HeartGeometry(mesh, markers=markers,\n",
    "                    marker_functions=marker_functions,\n",
    "                    microstructure=microstructure)"
   ]
  },
  {
   "cell_type": "markdown",
   "metadata": {},
   "source": [
    "Next, let's double check that the volume of the inner ellispoid you defined is close to the initial volume from the experimental data (`Vo`).  The following cell prints the initial cavity volume."
   ]
  },
  {
   "cell_type": "code",
   "execution_count": null,
   "metadata": {},
   "outputs": [],
   "source": [
    "print(\"Initial ventricular volume = %.5f mL\"%geometry.cavity_volume())"
   ]
  },
  {
   "cell_type": "markdown",
   "metadata": {},
   "source": [
    "### Step 2: Visualize mesh and fibers"
   ]
  },
  {
   "cell_type": "code",
   "execution_count": null,
   "metadata": {},
   "outputs": [],
   "source": [
    "geometry.mesh"
   ]
  },
  {
   "cell_type": "markdown",
   "metadata": {},
   "source": [
    "             The mesh above is interactive.\n",
    "             You can grab it with your mouse and rotate it around to inspect it.\n",
    "             Additionally, press `m` key to see the vertex locations"
   ]
  },
  {
   "cell_type": "markdown",
   "metadata": {},
   "source": [
    "Next we will plot the vertices (or nodes) of the finite element mesh using matplotlib. Note the dimensions of the mesh compared to your measured dimensions"
   ]
  },
  {
   "cell_type": "code",
   "execution_count": null,
   "metadata": {},
   "outputs": [],
   "source": [
    "plt.plot(mesh.coordinates()[:,1],mesh.coordinates()[:,0]*-1,'o')\n",
    "plt.axis('equal')\n",
    "plt.show()"
   ]
  },
  {
   "cell_type": "markdown",
   "metadata": {},
   "source": [
    "Finally, we will plot the 3D geometry and look at the fiber angles"
   ]
  },
  {
   "cell_type": "code",
   "execution_count": null,
   "metadata": {},
   "outputs": [],
   "source": [
    "df.plot(mesh)\n",
    "ax = plt.gca()\n",
    "ax.view_init(elev=-67, azim=-179)\n",
    "ax.set_xlim([0, 1])\n",
    "ax.set_ylim([-0.7, 0.7])\n",
    "ax.set_zlim([-0.7, 0.7])\n",
    "ax.set_axis_off()\n",
    "\n",
    "plt.show()\n",
    "\n",
    "if fields:\n",
    "    df.plot(fields[0])\n",
    "    ax = plt.gca()\n",
    "    ax.view_init(elev=-67, azim=-179)\n",
    "    ax.set_xlim([0, 1])\n",
    "    ax.set_ylim([-0.7, 0.7])\n",
    "    ax.set_zlim([-0.7, 0.7])\n",
    "    ax.set_axis_off()"
   ]
  },
  {
   "cell_type": "markdown",
   "metadata": {},
   "source": [
    "***\n",
    "<a id=\"fea\"></a>\n",
    "# Passive inflation of the finite element models"
   ]
  },
  {
   "cell_type": "markdown",
   "metadata": {},
   "source": [
    "### Step 1: Define Simulation Parameters\n",
    "\n",
    "**<font color=red>EDIT HERE line 2</font>**\n",
    "<br>Edit the maximum pressure for the finite element model inflation"
   ]
  },
  {
   "cell_type": "code",
   "execution_count": null,
   "metadata": {},
   "outputs": [],
   "source": [
    "#EDIT HERE: Edit the maximum pressure for the finite element model inflation\n",
    "max_lvp = 2.6 # Use kPa\n",
    "\n",
    "# Number of steps to save pressure at  \n",
    "# note: the solver in Pulse is adaptive so there should not\n",
    "#       be issues with the time step being too large.  This\n",
    "#.      is just for saving off the pressure\n",
    "steps = 10\n"
   ]
  },
  {
   "cell_type": "markdown",
   "metadata": {},
   "source": [
    "### Step 2: Define material properties & set boundary conditions\n",
    "\n",
    "To model the material properties of the frog myocardium, we will use a Fung-type constitutive equation that was first proposed by [Guccione et al. in 1991](https://www.ncbi.nlm.nih.gov/pubmed/2020175)\n",
    "\n",
    "\\begin{equation*}\n",
    "\\psi = \\frac{1}{2}C(e^Q-1)\n",
    "\\end{equation*}\n",
    "\\begin{equation*}\n",
    "Q = b_{f}E_{ff}^2 + b_{fs}(2E_{fs}^2 + 2E_{fn}^2) + b_{t}(E_{ss}^2+E_{nn}^2+2E_{sn}^2)\n",
    "\\end{equation*}\n"
   ]
  },
  {
   "cell_type": "code",
   "execution_count": null,
   "metadata": {},
   "outputs": [],
   "source": [
    "matparams = pulse.Guccione.default_parameters()\n",
    "matparams[\"C\"] = .80 # kPa\n",
    "matparams[\"bf\"] = 3.0 \n",
    "matparams[\"bt\"] = 1.5\n",
    "matparams[\"bfs\"] = 1.0 \n",
    "material = pulse.Guccione(parameters=matparams,\n",
    "                          f0=geometry.f0,\n",
    "                          s0=geometry.s0,\n",
    "                          n0=geometry.n0)"
   ]
  },
  {
   "cell_type": "code",
   "execution_count": null,
   "metadata": {},
   "outputs": [],
   "source": [
    "# Define Dirichlet boundary. Fix the base_spring\n",
    "def dirichlet_bc(W):\n",
    "    V = W if W.sub(0).num_sub_spaces() == 0 else W.sub(0)\n",
    "    return dolfin.DirichletBC(V, dolfin.Constant((0.0, 0.0, 0.0)),\n",
    "                              geometry.ffun, geometry.markers['BASE'][0])\n",
    "\n",
    "\n",
    "# Traction at the bottom of the beam\n",
    "lvp = dolfin.Constant(0.0)\n",
    "neumann_bc = pulse.NeumannBC(traction=lvp,\n",
    "                             marker=geometry.markers['ENDO'][0])\n",
    "\n",
    "# Collect Boundary Conditions\n",
    "bcs = pulse.BoundaryConditions(dirichlet=(dirichlet_bc,),\n",
    "                               neumann=(neumann_bc,))\n"
   ]
  },
  {
   "cell_type": "markdown",
   "metadata": {},
   "source": [
    "### Step 3: Run the simulated inflation\n",
    "\n",
    "Note: The solver will output logging info below indicating the status of the simulation.  The indicator box to the left of the cell will have a asterisk while the cell is running.  If the simulation takes a long time to run (greater than 10 minutes) there may be an issue with your geometry or parameters.  Remember `Kernel -> Restart & Clear Output` will restart the notebook if you are having problems."
   ]
  },
  {
   "cell_type": "code",
   "execution_count": null,
   "metadata": {
    "scrolled": true
   },
   "outputs": [],
   "source": [
    "# Create problem\n",
    "problem = pulse.MechanicsProblem(geometry, material, bcs)\n",
    "\n",
    "#initial conditions\n",
    "pressures = [0.0]\n",
    "volumes = [geometry.cavity_volume()]\n",
    "\n",
    "for p in np.linspace(0, max_lvp, steps)[1:]:\n",
    "    pulse.iterate.iterate(problem, lvp, p)\n",
    "\n",
    "    pressures.append(p)\n",
    "    volumes.append(geometry.cavity_volume(u=problem.state.split()[0]))\n",
    "    \n",
    "# Get displacement and hydrostatic pressure\n",
    "u, p = problem.state.split(deepcopy=True)"
   ]
  },
  {
   "cell_type": "markdown",
   "metadata": {},
   "source": [
    "### Step 4: Plot pressure-volume relationship for the finite element simulation"
   ]
  },
  {
   "cell_type": "code",
   "execution_count": null,
   "metadata": {},
   "outputs": [],
   "source": [
    "fig = plt.figure()\n",
    "plt.plot(volumes,pressures,label='sim, C = 0.8')\n",
    "plt.xlabel(\"Volume (mL)\")\n",
    "plt.ylabel(\"Pressure (kPa)\")\n",
    "plt.title('FEA heart PV curve')\n",
    "ax = plt.gca()\n",
    "ax.spines['right'].set_color('none')\n",
    "ax.spines['top'].set_color('none')\n",
    "plt.legend()\n",
    "plt.show()"
   ]
  },
  {
   "cell_type": "markdown",
   "metadata": {},
   "source": [
    "MODEL OUTPUT: The simulated pressure and volume data are printed below"
   ]
  },
  {
   "cell_type": "code",
   "execution_count": null,
   "metadata": {},
   "outputs": [],
   "source": [
    "print('pressures (kPa) = ',np.array(pressures)) \n",
    "print('volumes (mL) = ', np.array(volumes))"
   ]
  },
  {
   "cell_type": "markdown",
   "metadata": {},
   "source": [
    "## Compare to experimental data"
   ]
  },
  {
   "cell_type": "code",
   "execution_count": null,
   "metadata": {},
   "outputs": [],
   "source": [
    "p_fea_1 = np.array(pressures)*7.5 # convert to mmHg\n",
    "v_fea_1 = np.array(volumes)"
   ]
  },
  {
   "cell_type": "code",
   "execution_count": null,
   "metadata": {},
   "outputs": [],
   "source": [
    "fig = plt.figure()\n",
    "plt.plot(v_fea_1,p_fea_1,label='sim, C = 0.3')\n",
    "plt.plot(pv_lab[:,0],pv_lab[:,1],'k-',label='Experiment')\n",
    "plt.xlabel(\"Volume (mL)\")\n",
    "plt.ylabel(\"Pressure (mmHg)\")\n",
    "plt.title('Experimental and simulated PV curves')\n",
    "ax = plt.gca()\n",
    "ax.spines['right'].set_color('none')\n",
    "ax.spines['top'].set_color('none')\n",
    "plt.legend()\n",
    "plt.show()"
   ]
  },
  {
   "cell_type": "markdown",
   "metadata": {},
   "source": [
    "***\n",
    "<a id=\"opt\"></a>\n",
    "# Optimize material parameters \n",
    "\n",
    "The objective of this portion of the exercise is to optimize the stiffness of the model to match the experimental PV data.  The below cell will edit the material parameters and run the simulated inflation all in one step.\n",
    "\n",
    "**<font color=red>EDIT HERE line 4 </font>**\n",
    "<br>Iteratively edit the material properties of the finite element model to match the experimental PV curve.  You only need to edit the `C` parameter"
   ]
  },
  {
   "cell_type": "code",
   "execution_count": null,
   "metadata": {
    "scrolled": true
   },
   "outputs": [],
   "source": [
    "# EDIT HERE: Iteratively edit the material properties of the finite element model \n",
    "#            to match the experimental PV curve\n",
    "matparams = pulse.Guccione.default_parameters()\n",
    "matparams[\"C\"] = 0.8 # kPa\n",
    "matparams[\"bf\"] = 3.0 \n",
    "matparams[\"bt\"] = 1.5\n",
    "matparams[\"bfs\"] = 1.0 \n",
    "material = pulse.Guccione(parameters=matparams,\n",
    "                          f0=geometry.f0,\n",
    "                          s0=geometry.s0,\n",
    "                          n0=geometry.n0)\n",
    "\n",
    "# Reset the endocardial pressure boundary condition for the new sim\n",
    "lvp = dolfin.Constant(0.0)\n",
    "neumann_bc = pulse.NeumannBC(traction=lvp,\n",
    "                             marker=geometry.markers['ENDO'][0])\n",
    "\n",
    "# Collect Boundary Conditions\n",
    "bcs = pulse.BoundaryConditions(dirichlet=(dirichlet_bc,),\n",
    "                               neumann=(neumann_bc,))\n",
    "\n",
    "# Create problem\n",
    "problem = pulse.MechanicsProblem(geometry, material, bcs)\n",
    "\n",
    "#initial conditions\n",
    "pressures = [0.0]\n",
    "volumes = [geometry.cavity_volume()]\n",
    "\n",
    "# Run the simulated inflation\n",
    "for p in np.linspace(0, max_lvp, steps)[1:]:\n",
    "    pulse.iterate.iterate(problem, lvp, p)\n",
    "\n",
    "    pressures.append(p)\n",
    "    volumes.append(geometry.cavity_volume(u=problem.state.split()[0]))\n",
    "    \n",
    "# Get displacement and hydrostatic pressure\n",
    "u, p = problem.state.split(deepcopy=True)"
   ]
  },
  {
   "cell_type": "markdown",
   "metadata": {},
   "source": [
    "MODEL OUTPUT: The simulated pressure and volume data are printed below"
   ]
  },
  {
   "cell_type": "code",
   "execution_count": null,
   "metadata": {},
   "outputs": [],
   "source": [
    "print('pressures (kPa) = ',np.array(pressures))\n",
    "print('volumes (mL) = ', np.array(volumes))"
   ]
  },
  {
   "cell_type": "code",
   "execution_count": null,
   "metadata": {},
   "outputs": [],
   "source": [
    "# If you want to use this cell to plot additional \n",
    "# simulated PV curves, be sure the rename the variables\n",
    "\n",
    "p_fea_2 = np.array(pressures)*7.5\n",
    "v_fea_2 = np.array(volumes)\n",
    "\n",
    "fig = plt.figure()\n",
    "plt.plot(v_fea_1,p_fea_1,label='sim, C = 0.8  b = 3, 1.5, 1')\n",
    "plt.plot(v_fea_2,p_fea_2,label='sim, C = 0.8, b = 3, 1.5, 1')\n",
    "plt.plot(pv_lab[:,0],pv_lab[:,1],'k-',label='Experiment')\n",
    "plt.xlabel(\"Volume (mL)\")\n",
    "plt.ylabel(\"Pressure (mmHg)\")\n",
    "plt.title('Experimental and simulated PV curves')\n",
    "ax = plt.gca()\n",
    "ax.spines['right'].set_color('none')\n",
    "ax.spines['top'].set_color('none')\n",
    "plt.legend(loc=(1.04,0))\n",
    "plt.show()"
   ]
  },
  {
   "cell_type": "markdown",
   "metadata": {},
   "source": [
    "Compare your simulated PV curve to the experimental data.  To try different set of material properties, return to the [Optimize material parameters](#opt) cell, edit the value for `C` and rerun the model.  You do NOT need to run the entire notebook again, just the previous three cells (starting below [Optimize material parameters](#opt))"
   ]
  },
  {
   "cell_type": "markdown",
   "metadata": {},
   "source": [
    "***\n",
    "<a id=\"stress\"></a>\n",
    "# Plot the transmural stress distribution\n",
    "\n",
    "This will use the result from the most recent simulation you've run."
   ]
  },
  {
   "cell_type": "code",
   "execution_count": null,
   "metadata": {},
   "outputs": [],
   "source": [
    "# Calculate strain and stress tensors\n",
    "F = pulse.kinematics.DeformationGradient(u)\n",
    "E = pulse.kinematics.GreenLagrangeStrain(F)\n",
    "# Green-Lagrange strain normal to fiber direction\n",
    "Ef = dolfin.project(\n",
    "    dolfin.inner(E * geometry.f0, geometry.f0),\n",
    "    dolfin.FunctionSpace(geometry.mesh, \"CG\", 1),\n",
    "    # solver_type=\"gmres\",\n",
    ")\n",
    "\n",
    "P = material.FirstPiolaStress(F, p)\n",
    "# First piola stress normal to fiber direction\n",
    "Pf = dolfin.project(\n",
    "    dolfin.inner(P * geometry.f0, geometry.f0),\n",
    "    dolfin.FunctionSpace(geometry.mesh, \"CG\", 1),\n",
    ")\n",
    "\n",
    "T = material.CauchyStress(F, p)\n",
    "f = F * geometry.f0 \n",
    "s = F * geometry.s0\n",
    "n = F * geometry.n0\n",
    "\n",
    "\n",
    "# Cauchy fiber stress\n",
    "Tf = dolfin.project(\n",
    "    dolfin.inner(T * f, f), dolfin.FunctionSpace(geometry.mesh, \"CG\", 1)\n",
    ")\n",
    "\n",
    "# Cauchy sheet stress\n",
    "Sf = dolfin.project(\n",
    "    dolfin.inner(T * s, s), dolfin.FunctionSpace(geometry.mesh, \"CG\", 1)\n",
    ")\n",
    "\n",
    "# Cauchy normal stress\n",
    "Nf = dolfin.project(\n",
    "    dolfin.inner(T * n, n), dolfin.FunctionSpace(geometry.mesh, \"CG\", 1)\n",
    ")"
   ]
  },
  {
   "cell_type": "code",
   "execution_count": null,
   "metadata": {},
   "outputs": [],
   "source": [
    "# Determine the locations to calculate the stress\n",
    "x = 0.0\n",
    "y = 0\n",
    "z_epi = np.sqrt(c_epi**2*(1-(x**2/a_epi**2)-(y**2/b_epi**2)))\n",
    "z_endo = np.sqrt(c_endo**2*(1-(x**2/a_endo**2)-(y**2/b_endo**2)))\n",
    "\n",
    "tol = 0.03\n",
    "z = np.linspace(z_endo+tol,z_epi-tol,10)\n",
    "points = [(x, y, z_) for z_ in z]\n",
    "fiber_stress = fs(z, matparams[\"C\"], max_lvp)\n",
    "radial_stress = rs(z, matparams[\"C\"], max_lvp)"
   ]
  },
  {
   "cell_type": "markdown",
   "metadata": {},
   "source": [
    "MODEL OUTPUT: The simulated stress data are printed below"
   ]
  },
  {
   "cell_type": "code",
   "execution_count": null,
   "metadata": {},
   "outputs": [],
   "source": [
    "print('Z axis coordinate:',z)\n",
    "print('Fiber Stress:',fiber_stress)\n",
    "print('Radial Stress:',radial_stress)"
   ]
  },
  {
   "cell_type": "code",
   "execution_count": null,
   "metadata": {},
   "outputs": [],
   "source": [
    "fig, (ax1, ax2) = plt.subplots(1,2,figsize=(12,4),facecolor='white')\n",
    "ax1.plot(z,fiber_stress)\n",
    "ax1.set_xlabel('Transmural location (Endo -> Epi)')\n",
    "ax1.set_ylabel('Fiber stress (kPa)')\n",
    "ax2.plot(z,radial_stress)\n",
    "ax2.set_xlabel('Transmural location (Endo -> Epi)')\n",
    "ax2.set_ylabel('Radial stress (kPa)')\n",
    "[ax.spines['right'].set_color('none') for ax in (ax1, ax2)]\n",
    "[ax.spines['top'].set_color('none') for ax in (ax1, ax2)]\n",
    "\n",
    "plt.show()"
   ]
  }
 ],
 "metadata": {
  "kernelspec": {
   "display_name": "Python 3",
   "language": "python",
   "name": "python3"
  },
  "language_info": {
   "codemirror_mode": {
    "name": "ipython",
    "version": 3
   },
   "file_extension": ".py",
   "mimetype": "text/x-python",
   "name": "python",
   "nbconvert_exporter": "python",
   "pygments_lexer": "ipython3",
   "version": "3.7.7"
  }
 },
 "nbformat": 4,
 "nbformat_minor": 4
}
