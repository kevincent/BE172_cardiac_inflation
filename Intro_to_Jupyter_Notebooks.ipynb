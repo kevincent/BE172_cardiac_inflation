{
 "cells": [
  {
   "cell_type": "markdown",
   "metadata": {},
   "source": [
    "# A Quick Introduction to Jupyter Notebooks"
   ]
  },
  {
   "cell_type": "markdown",
   "metadata": {},
   "source": [
    "In Jupyter, files are known as *notebooks*, and are saved on your computer as `.ipynb` files. These are not traditional scripts or programs, but rather a combination of rich text, math, figures and code all contained in the same file. You interact with this file through your browser, which enables many interesting features.\n",
    "\n",
    "In this week's lab you will simulate the inflation of a frog ventricle using the finite element method.  The code is all written in python and contained in a Jupyter notebook. The Jupyter notebook uses distributed computing, this means that when you execute code, it will run distributed in the cloud (UCSD's datahub cluster, to be specific). You can also use and run Jupyter locally on your machine, in which case it starts a kernel behind the scenes, and uses your default browser to interact with this kernel."
   ]
  },
  {
   "cell_type": "markdown",
   "metadata": {},
   "source": [
    "This notebook contains a gentle introduction to Juypyter notebooks to allow you to run the lab exercise. If you prefer to learn from a video, here is a short youtube video to get you started:\n",
    "\n",
    "[A quick introduction to Jupyter notebooks (7 min)](https://www.youtube.com/watch?v=jZ952vChhuI)\n",
    "\n",
    "Below are some other resources:\n",
    "\n",
    "[Jupyter docs: Notebook Basics](https://jupyter-notebook.readthedocs.io/en/stable/examples/Notebook/Notebook%20Basics.html)\n",
    "\n",
    "[Jupyter docs: Running Code](https://jupyter-notebook.readthedocs.io/en/stable/examples/Notebook/Running%20Code.html)\n",
    "\n",
    "[Jupyter Notebooks: an Introduction](https://realpython.com/jupyter-notebook-introduction/)"
   ]
  },
  {
   "cell_type": "markdown",
   "metadata": {},
   "source": [
    "***\n",
    "### Jupyter Notebooks\n",
    "\n",
    "#### The Dashboard \n",
    "\n",
    "When you start a new session, you will first enter the dashboard. From here you can navigate to an existing notebook or create a brand new one. The first time you log in for this class, you will probably use the nbgitpuller link.  That link downloads the code repository and opens the Jupyter notebook for you - avoiding the need to go through the dashboard.  However, if you log directly into the UCSD datahub, you will see the dashboard and can use it to navigate to the notebook you want to open.\n",
    "\n",
    "<img src=\"fig/dashboard_files_tab.png\" width=600>\n",
    "<center>The Juypyter Dashboard</center>\n",
    "\n",
    "#### Notebook Cells\n",
    "\n",
    "In notebooks, everything consists of cells, which are either *markdown cells*, which can contain text, math, figures, and so on, or they are *code cells*, which contain Python code which can be executed.\n",
    "\n",
    "When navigating through a notebook, you will always be in one of two modes. Either you are actively making edits to an existing cell, this is known as *edit mode*. When you are in edit mode, the cell you are currently editing is marked in a green box, and you have a blinking cursor inside the cell.\n",
    "\n",
    "<img src=\"fig/edit_mode.png\" width=600>\n",
    "<center>A cell in edit mode.</center>\n",
    "\n",
    "When we are not actively editing a cell, we are in *command mode*. We see we are in command mode because the active cell is marked in a blue box, not a green one, and there is no cursor. When in command mode, pressing the keyboard will invoke commands through keyboard shortcuts, such as generating new cells.\n",
    "\n",
    "<img src=\"fig/command_mode.png\" width=600>\n",
    "<center>A cell in command mode.</center>\n",
    "\n",
    "When in command mode, you can enter edit mode on a given cell by double clicking it, or by pressing enter. When in edit mode, you can exit by clicking outside the cell with your cursor, or by pressing escape."
   ]
  },
  {
   "cell_type": "code",
   "execution_count": null,
   "metadata": {},
   "outputs": [],
   "source": []
  },
  {
   "cell_type": "code",
   "execution_count": null,
   "metadata": {},
   "outputs": [],
   "source": []
  },
  {
   "cell_type": "markdown",
   "metadata": {},
   "source": [
    "## A Scientific \"Hello, World!\" Program\n",
    "\n",
    "Traditionally, the first program one creates when learning a new programming language, is the so-called \"Hello, World!\"-program, which should just write out a message to the consol. In Python, this task is very easy, we simply use the `print`-command as shown above:"
   ]
  },
  {
   "cell_type": "code",
   "execution_count": 1,
   "metadata": {},
   "outputs": [
    {
     "name": "stdout",
     "output_type": "stream",
     "text": [
      "Hello, World!\n"
     ]
    }
   ],
   "source": [
    "print(\"Hello, World!\")"
   ]
  },
  {
   "cell_type": "markdown",
   "metadata": {},
   "source": [
    "The command `print()` is a built-in function that writes the output to the screen or console. When calling functions, we need to put the input in parentheses, and as we are printing out a text-based message, we need to put it in quotes to mark it as a *text string* (more on this later). In Python you can use either single-quotes, or double-quotes (` \\` ` or `\"`), as long as you put the same character on both ends."
   ]
  },
  {
   "cell_type": "markdown",
   "metadata": {},
   "source": [
    "The \"Hello, World!\" program isn't terribly exciting, so let us instead do a more scientific variant, where we compute some simple expression and write out the results. As a recurring example, we will use the mathematical formula\n",
    "$$s(t) = v_0 t + \\frac{1}{2}at^2,$$\n",
    "Where $s$ is the distance traveled by an object after time $t$ with a constant acceleration $a$, starting with an initial velocity $v_0$.\n",
    "\n",
    "As an example, let us compute the distance traveled for $t = 0.5$, $v_0=2$ and $a=0.2$."
   ]
  },
  {
   "cell_type": "code",
   "execution_count": 2,
   "metadata": {},
   "outputs": [],
   "source": [
    "t = 0.5\n",
    "v0 = 2\n",
    "a = 0.2\n",
    "s = v0*t + 0.5*a*t**2"
   ]
  },
  {
   "cell_type": "code",
   "execution_count": null,
   "metadata": {},
   "outputs": [],
   "source": []
  },
  {
   "cell_type": "markdown",
   "metadata": {},
   "source": [
    "## Troubleshooting help"
   ]
  },
  {
   "cell_type": "markdown",
   "metadata": {},
   "source": [
    "Editing anything other than the lines specified with `#EDIT HERE` could cause the simulation to fail. Additionally, using values that are far from the expected range could also cause the simulation to fail.  This woul"
   ]
  },
  {
   "cell_type": "code",
   "execution_count": null,
   "metadata": {},
   "outputs": [],
   "source": []
  }
 ],
 "metadata": {
  "kernelspec": {
   "display_name": "Python 3",
   "language": "python",
   "name": "python3"
  },
  "language_info": {
   "codemirror_mode": {
    "name": "ipython",
    "version": 3
   },
   "file_extension": ".py",
   "mimetype": "text/x-python",
   "name": "python",
   "nbconvert_exporter": "python",
   "pygments_lexer": "ipython3",
   "version": "3.7.7"
  }
 },
 "nbformat": 4,
 "nbformat_minor": 4
}
